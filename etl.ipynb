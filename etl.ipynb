{
 "cells": [
  {
   "cell_type": "code",
   "execution_count": 1,
   "id": "18057b65",
   "metadata": {},
   "outputs": [
    {
     "name": "stdout",
     "output_type": "stream",
     "text": [
      "\n",
      "Dados brutos (staging):\n",
      "  Country Name Country Code                            Indicator Name  \\\n",
      "0        Aruba          ABW  Urban population (% of total population)   \n",
      "1        Aruba          ABW                          Urban population   \n",
      "2        Aruba          ABW        Urban population growth (annual %)   \n",
      "3        Aruba          ABW                         Population, total   \n",
      "4        Aruba          ABW              Population growth (annual %)   \n",
      "\n",
      "      Indicator Code       1960          1961          1962          1963  \\\n",
      "0  SP.URB.TOTL.IN.ZS     50.776     50.761000     50.746000     50.730000   \n",
      "1        SP.URB.TOTL  27887.000  28212.000000  28580.000000  28917.000000   \n",
      "2        SP.URB.GROW        NaN      1.158679      1.295975      1.172248   \n",
      "3        SP.POP.TOTL  54922.000  55578.000000  56320.000000  57002.000000   \n",
      "4        SP.POP.GROW        NaN      1.187344      1.326227      1.203664   \n",
      "\n",
      "           1964          1965  ...           2016           2017  \\\n",
      "0     50.715000     50.700000  ...      43.192000      43.293000   \n",
      "1  29221.000000  29502.000000  ...   46961.000000   47075.000000   \n",
      "2      1.045797      0.957043  ...       0.952113       0.242460   \n",
      "3  57619.000000  58190.000000  ...  108727.000000  108735.000000   \n",
      "4      1.076602      0.986114  ...       0.757968       0.007358   \n",
      "\n",
      "            2018           2019           2020           2021           2022  \\\n",
      "0      43.411000      43.546000      43.697000      43.866000      44.052000   \n",
      "1   47278.000000   47554.000000   47449.000000   47244.000000   47272.000000   \n",
      "2       0.430300       0.582084      -0.221046      -0.432979       0.059249   \n",
      "3  108908.000000  109203.000000  108587.000000  107700.000000  107310.000000   \n",
      "4       0.158976       0.270505      -0.565684      -0.820211      -0.362774   \n",
      "\n",
      "            2023  2024  Unnamed: 69  \n",
      "0      44.254000   NaN          NaN  \n",
      "1   47511.000000   NaN          NaN  \n",
      "2       0.504311   NaN          NaN  \n",
      "3  107359.000000   NaN          NaN  \n",
      "4       0.045652   NaN          NaN  \n",
      "\n",
      "[5 rows x 70 columns]\n",
      "\n",
      "Colunas do DataFrame: ['Country Name', 'Country Code', 'Indicator Name', 'Indicator Code', '1960', '1961', '1962', '1963', '1964', '1965', '1966', '1967', '1968', '1969', '1970', '1971', '1972', '1973', '1974', '1975', '1976', '1977', '1978', '1979', '1980', '1981', '1982', '1983', '1984', '1985', '1986', '1987', '1988', '1989', '1990', '1991', '1992', '1993', '1994', '1995', '1996', '1997', '1998', '1999', '2000', '2001', '2002', '2003', '2004', '2005', '2006', '2007', '2008', '2009', '2010', '2011', '2012', '2013', '2014', '2015', '2016', '2017', '2018', '2019', '2020', '2021', '2022', '2023', '2024', 'Unnamed: 69']\n"
     ]
    }
   ],
   "source": [
    "import pandas as pd\n",
    "import numpy as np\n",
    "\n",
    "staging_df = pd.read_csv(\"database/API_19_DS2_en_csv_v2_4644.csv\")\n",
    "\n",
    "print(\"\\nDados brutos (staging):\")\n",
    "print(staging_df.head())\n",
    "print(\"\\nColunas do DataFrame:\", staging_df.columns.tolist())\n"
   ]
  },
  {
   "cell_type": "markdown",
   "id": "7d002ccb",
   "metadata": {},
   "source": [
    "Transformação e limpeza dos dados"
   ]
  },
  {
   "cell_type": "code",
   "execution_count": 2,
   "id": "841f07a3",
   "metadata": {},
   "outputs": [
    {
     "name": "stdout",
     "output_type": "stream",
     "text": [
      "\n",
      "Dados limpos e transformados:\n",
      "  country_name country_code                            indicator_name  \\\n",
      "0        Aruba          ABW  Urban population (% of total population)   \n",
      "1        Aruba          ABW                          Urban population   \n",
      "2        Aruba          ABW        Urban population growth (annual %)   \n",
      "3        Aruba          ABW                         Population, total   \n",
      "4        Aruba          ABW              Population growth (annual %)   \n",
      "\n",
      "      indicator_code  current_year  current_value  \n",
      "0  SP.URB.TOTL.IN.ZS          2000      46.717000  \n",
      "1        SP.URB.TOTL          2000   42320.000000  \n",
      "2        SP.URB.GROW          2000       0.156076  \n",
      "3        SP.POP.TOTL          2000   90588.000000  \n",
      "4        SP.POP.GROW          2000       1.030817  \n"
     ]
    }
   ],
   "source": [
    "id_vars = ['Country Name', 'Country Code', 'Indicator Name', 'Indicator Code']\n",
    "year_cols = [str(year) for year in range(2000, 2025)]\n",
    "value_vars = [col for col in year_cols if col in staging_df.columns]\n",
    "\n",
    "cleaned_df = pd.melt(\n",
    "    staging_df,\n",
    "    id_vars=id_vars,\n",
    "    value_vars=value_vars,\n",
    "    var_name='current_year',\n",
    "    value_name='current_value'\n",
    ")\n",
    "\n",
    "cleaned_df.dropna(subset=['current_value'], inplace=True)\n",
    "cleaned_df = cleaned_df[cleaned_df['Country Name'] != 'World']\n",
    "cleaned_df['current_year'] = pd.to_numeric(cleaned_df['current_year']).astype(int)\n",
    "cleaned_df['current_value'] = pd.to_numeric(cleaned_df['current_value']).astype(float)\n",
    "\n",
    "cleaned_df.rename(columns={\n",
    "        'Country Name': 'country_name',\n",
    "        'Country Code': 'country_code',\n",
    "        'Indicator Name': 'indicator_name',\n",
    "        'Indicator Code': 'indicator_code'\n",
    "    }, inplace=True)\n",
    "\n",
    "print(\"\\nDados limpos e transformados:\")\n",
    "print(cleaned_df.head())"
   ]
  },
  {
   "cell_type": "markdown",
   "id": "1124a5b1",
   "metadata": {},
   "source": [
    "Datawarehouse"
   ]
  },
  {
   "cell_type": "code",
   "execution_count": 3,
   "id": "494fe4cf",
   "metadata": {},
   "outputs": [
    {
     "name": "stdout",
     "output_type": "stream",
     "text": [
      "\n",
      "tabela da dim_country\n",
      "   id_country                 country_name country_code\n",
      "0           0                  Afghanistan          AFG\n",
      "1           1  Africa Eastern and Southern          AFE\n",
      "2           2   Africa Western and Central          AFW\n",
      "3           3                      Albania          ALB\n",
      "4           4                      Algeria          DZA\n"
     ]
    }
   ],
   "source": [
    "dim_country = cleaned_df[['country_name', 'country_code']].drop_duplicates().sort_values('country_name').reset_index(drop=True)\n",
    "dim_country['id_country'] = dim_country.index\n",
    "dim_country = dim_country[['id_country', 'country_name', 'country_code']]\n",
    "\n",
    "print(\"\\ntabela da dim_country\")\n",
    "print(dim_country.head())"
   ]
  },
  {
   "cell_type": "code",
   "execution_count": 4,
   "id": "e9715c51",
   "metadata": {},
   "outputs": [
    {
     "name": "stdout",
     "output_type": "stream",
     "text": [
      "\n",
      "tabela da dim_indicator\n",
      "   id_indicator                                     indicator_name  \\\n",
      "0             0            Access to electricity (% of population)   \n",
      "1             1  Agricultural irrigated land (% of total agricu...   \n",
      "2             2                 Agricultural land (% of land area)   \n",
      "3             3                         Agricultural land (sq. km)   \n",
      "4             4  Agriculture, forestry, and fishing, value adde...   \n",
      "\n",
      "      indicator_code  \n",
      "0     EG.ELC.ACCS.ZS  \n",
      "1  AG.LND.IRIG.AG.ZS  \n",
      "2     AG.LND.AGRI.ZS  \n",
      "3     AG.LND.AGRI.K2  \n",
      "4     NV.AGR.TOTL.ZS  \n"
     ]
    }
   ],
   "source": [
    "dim_indicator = cleaned_df[['indicator_name', 'indicator_code']].drop_duplicates().sort_values('indicator_name').reset_index(drop=True)\n",
    "dim_indicator['id_indicator'] = dim_indicator.index\n",
    "dim_indicator = dim_indicator[['id_indicator', 'indicator_name', 'indicator_code']]\n",
    "\n",
    "print(\"\\ntabela da dim_indicator\")\n",
    "print(dim_indicator.head())"
   ]
  },
  {
   "cell_type": "code",
   "execution_count": 5,
   "id": "f49b704d",
   "metadata": {},
   "outputs": [
    {
     "name": "stdout",
     "output_type": "stream",
     "text": [
      "\n",
      "--- Tabela de Dimensão: dim_time ---\n",
      "   id_time  current_year\n",
      "0        0          2000\n",
      "1        1          2001\n",
      "2        2          2002\n",
      "3        3          2003\n",
      "4        4          2004\n"
     ]
    }
   ],
   "source": [
    "dim_time = cleaned_df[['current_year']].drop_duplicates().sort_values('current_year').reset_index(drop=True)\n",
    "dim_time['id_time'] = dim_time.index\n",
    "dim_time = dim_time[['id_time', 'current_year']]\n",
    "\n",
    "print(\"\\n--- Tabela de Dimensão: dim_time ---\")\n",
    "print(dim_time.head())"
   ]
  },
  {
   "cell_type": "code",
   "execution_count": 6,
   "id": "28184aef",
   "metadata": {},
   "outputs": [
    {
     "name": "stdout",
     "output_type": "stream",
     "text": [
      "\n",
      "tabela de fat_value\n",
      "   id_value  id_country  id_indicator  id_time  current_value\n",
      "0         0          12            48        0      46.717000\n",
      "1         1          12            47        0   42320.000000\n",
      "2         2          12            49        0       0.156076\n",
      "3         3          12            33        0   90588.000000\n",
      "4         4          12            30        0       1.030817\n",
      "\n",
      "Processo ETL concluído. Foram gerados 198017 registros na tabela de fatos.\n"
     ]
    }
   ],
   "source": [
    "fat_value_temp = cleaned_df.merge(dim_country, on='country_code')\n",
    "fat_value_temp = fat_value_temp.merge(dim_indicator, on='indicator_code')\n",
    "fat_value_temp = fat_value_temp.merge(dim_time, on='current_year')\n",
    "\n",
    "fat_value = fat_value_temp[['id_country', 'id_indicator', 'id_time', 'current_value']].copy()\n",
    "    \n",
    "fat_value.drop_duplicates(subset=['id_country', 'id_indicator', 'id_time'], inplace=True)\n",
    "    \n",
    "fat_value.reset_index(drop=True, inplace=True)\n",
    "fat_value['id_value'] = fat_value.index\n",
    "    \n",
    "fat_value = fat_value[['id_value', 'id_country', 'id_indicator', 'id_time', 'current_value']]\n",
    "\n",
    "print(\"\\ntabela de fat_value\")\n",
    "print(fat_value.head())\n",
    "\n",
    "print(f\"\\nProcesso ETL concluído. Foram gerados {len(fat_value)} registros na tabela de fatos.\")"
   ]
  },
  {
   "cell_type": "code",
   "execution_count": 7,
   "id": "6056bd76",
   "metadata": {},
   "outputs": [],
   "source": [
    "fat_value.to_csv(\"datawarehouse/fat_value.csv\", index=False)\n",
    "dim_country.to_csv(\"datawarehouse/dim_country.csv\", index=False)\n",
    "dim_indicator.to_csv(\"datawarehouse/dim_indicator.csv\", index=False)\n",
    "dim_time.to_csv(\"datawarehouse/dim_time.csv\", index=False)"
   ]
  }
 ],
 "metadata": {
  "kernelspec": {
   "display_name": ".venv",
   "language": "python",
   "name": "python3"
  },
  "language_info": {
   "codemirror_mode": {
    "name": "ipython",
    "version": 3
   },
   "file_extension": ".py",
   "mimetype": "text/x-python",
   "name": "python",
   "nbconvert_exporter": "python",
   "pygments_lexer": "ipython3",
   "version": "3.13.5"
  }
 },
 "nbformat": 4,
 "nbformat_minor": 5
}
